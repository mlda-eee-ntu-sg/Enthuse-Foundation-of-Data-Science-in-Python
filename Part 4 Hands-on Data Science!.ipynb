{
 "cells": [
  {
   "cell_type": "markdown",
   "metadata": {},
   "source": [
    "# Data Science in Real World"
   ]
  },
  {
   "cell_type": "markdown",
   "metadata": {},
   "source": [
    "### Two types of inference tasks:\n",
    "\n",
    "***Classification*** - output (**Y**) is a categorical or ordinal or discrete in value\n",
    "\n",
    "e.g. \n",
    "- **X**: personal bank information,  **Y**: Risk Level for Loan (High, Medium, Low Risk)\n",
    "- **X**: youtube watch history, **Y**: Recommendation to watch a certain video (Yes, No)\n",
    "\n",
    "***Regression*** - output (**Y**) is a numeric and continuous value\n",
    "\n",
    "e.g. \n",
    "- **X**: car attributes, **Y**: price of the car\n",
    "- **X**: camera view from a car, **Y**: The location of the car (x, y coordinates)"
   ]
  },
  {
   "cell_type": "markdown",
   "metadata": {},
   "source": [
    "**Question:**\n",
    "\n",
    "   <ul>\n",
    "    <li> X: Previous Stock values Y: Stock value on the next trading day </li>\n",
    "    <li> X: Animal audio Y: Identity of the animal </li>\n",
    "    <li> X: Different sensory input Y: Potability of water </li>\n",
    "   </ul>\n",
    "Which problem the tasks listed above belong to, classification or regression?"
   ]
  },
  {
   "cell_type": "markdown",
   "metadata": {},
   "source": [
    "## <span style=\"color:#1A9FFF\">1 Sci-learn Library</span>\n",
    "\n",
    "[Sci-learn](http://scikit-learn.org/stable/) is a machine learning library in Python. It includes many simple and efficient tools for data mining and data analysis. Sci-learn is built based on NumPy, SciPy, and matplotlib. Many popular machine learning models are included and can be easily used in sci-learn package.\n",
    "\n",
    "It can be used to solve problem like:\n",
    "\n",
    "<ul>\n",
    "    <li> Classification </li>\n",
    "    <li> Regression </li>\n",
    "    <li> Clustering </li>\n",
    "    <li> Dimensionality Reduction </li>\n",
    "    <li> Data Preprocessing </li>\n",
    "    <li> Model Selection </li>\n",
    "    <li> ... </li>\n",
    "</ul>\n",
    "\n",
    "In this tutorial we only focus on applying sci-learn in supervised learning.\n",
    "\n",
    "Sci-learn can be install using `conda`. Just follow the steps in [Installing sci-learn](http://scikit-learn.org/stable/install.html)."
   ]
  },
  {
   "cell_type": "markdown",
   "metadata": {},
   "source": [
    "# <span style=\"color:#1A9FFF\"> 2. Decision Trees </span>"
   ]
  },
  {
   "cell_type": "markdown",
   "metadata": {},
   "source": [
    "### Warming Up Example\n",
    "\n",
    " How to decide the variety of a bear if we know its **color** and **where it lives**? \n",
    " \n",
    " <ul>\n",
    "    <li> feature: ** (color, habitat) ** </li>\n",
    "    <li> Is the bear black or white ? </li>\n",
    "    <li> Does the bear live in China ? </li>\n",
    "</ul>\n",
    "\n",
    "<table><tr>\n",
    "<td> <img src=\"pic/polarbear.jpg\" alt=\"Drawing\" style=\"width: 250px;\"/> </td>\n",
    "<td> <img src=\"pic/blackbear.jpg\"alt=\"Drawing\" style=\"width: 250px;\"/> </td>\n",
    "<td> <img src=\"pic/panda.jpg\"alt=\"Drawing\" style=\"width: 250px;\"/> </td>\n",
    "</tr></table>\n",
    "\n",
    "\n",
    "<img src=\"pic/illuDeciTree.png\">\n",
    "Solve the classification problem by asking a few questions, which can be implemented by `IF statements`."
   ]
  },
  {
   "cell_type": "markdown",
   "metadata": {},
   "source": [
    "## <span style=\"color:#1A9FFF\">2.1. Intro to Decision Trees</span>\n",
    "\n",
    "- hierarchical data structure implementing the divide-and-conquer strategy \n",
    "- a series of IF-THEN rules\n",
    "- can be used for classification and regression problems\n",
    "- two parts: decision nodes and leaf nodes\n",
    "\n",
    "** Decision Nodes ( internal node ) ** - Implementing a rule/function with discrete outcomes labeling the brances, and the decision is made based on input data. It help determine the sub-space.\n",
    "\n",
    "** Leaf Node ( terminal node ) ** - The \"decision\" or value that constitutes the output. It help determine the label of the sub-space.\n",
    "\n",
    "The decision tree is trying to recursively split the feature space so that most of the resulting samples in each sub-space belong to the sample class.\n",
    "\n",
    "<img src=\"pic/splitspace.png\">"
   ]
  },
  {
   "cell_type": "markdown",
   "metadata": {},
   "source": [
    "## <span style=\"color:#1A9FFF\">2.2 Decision Trees for Classification</span>"
   ]
  },
  {
   "cell_type": "markdown",
   "metadata": {},
   "source": [
    " <ul>\n",
    "    <li> A Simple Case ( Data Handling, Training, Testing ) </li>\n",
    "    <li> Real Cases </li>\n",
    "    <li> Tree Visualization </li>\n",
    "</ul>"
   ]
  },
  {
   "cell_type": "markdown",
   "metadata": {},
   "source": [
    "### A Simple Case"
   ]
  },
  {
   "cell_type": "markdown",
   "metadata": {},
   "source": [
    "#### Import Library"
   ]
  },
  {
   "cell_type": "code",
   "execution_count": null,
   "metadata": {
    "collapsed": true
   },
   "outputs": [],
   "source": [
    "from sklearn import tree"
   ]
  },
  {
   "cell_type": "markdown",
   "metadata": {},
   "source": [
    "#### Data\n",
    "<ul>\n",
    "    <li> Input : **X** ( Feature Matrix ) with size **( n_samples, n_features )**</li>\n",
    "    <li> Output : **Y** ( Labels ) with size **( n_sample )** </li>\n",
    "</ul>"
   ]
  },
  {
   "cell_type": "code",
   "execution_count": null,
   "metadata": {
    "collapsed": true
   },
   "outputs": [],
   "source": [
    "X = [[0, 0, 0], [1, 1, 1]]  # input feature matrix, size:[2, 3], 2 samples with dimension 3\n",
    "Y = [0, 1]    "
   ]
  },
  {
   "cell_type": "markdown",
   "metadata": {},
   "source": [
    "#### Training\n",
    "\n",
    "Using `DecisionTreeClassifier`, which define a Decision Tree model, as a classifier (model) for classification. \n",
    "\n",
    "Using `.fit()` function to train the model with given data **X** and **Y**."
   ]
  },
  {
   "cell_type": "code",
   "execution_count": null,
   "metadata": {
    "collapsed": true
   },
   "outputs": [],
   "source": [
    "# Define a model\n",
    "classifier = tree.DecisionTreeClassifier()\n",
    "\n",
    "# Training\n",
    "classifier = classifier.fit(X, Y)"
   ]
  },
  {
   "cell_type": "markdown",
   "metadata": {},
   "source": [
    "#### Testing ( Prediction )\n",
    "\n",
    "Using `.predict()` function to do the testing."
   ]
  },
  {
   "cell_type": "code",
   "execution_count": null,
   "metadata": {},
   "outputs": [],
   "source": [
    "X_test = [[2, 2, 1]]  # testing feature matrix, size: [1, 3], one sample with dimension 3\n",
    "\n",
    "# Testing (Prediction)\n",
    "print (\"The output label is\", classifier.predict(X_test))\n",
    "\n",
    "# Check the Probability belonging to each class\n",
    "print (\"The probabilities to the two classes are\", classifier.predict_proba(X_test))"
   ]
  },
  {
   "cell_type": "markdown",
   "metadata": {},
   "source": [
    "`DecisionTreeClassifier` is capable of both `binary` ( where the labels are [ -1, 1 ] ) classification and `multi-class` ( where the labels are [ 0, … , K-1 ] ) classification."
   ]
  },
  {
   "cell_type": "markdown",
   "metadata": {},
   "source": [
    "### Real Case 1 -  Iris dataset"
   ]
  },
  {
   "cell_type": "markdown",
   "metadata": {},
   "source": [
    "#### Data\n",
    "\n",
    "The dataset we use is `Iris`, which is a classic and very easy multi-class classification dataset. \n",
    "\n",
    "*** Summary of the Iris Dataset ***\n",
    "\n",
    "<ul>\n",
    "    <li> 3 classes </li>\n",
    "    <li> 50 samples per class </li>\n",
    "    <li> 150 samples in total </li>\n",
    "    <li> Each feature has 4 dimensions ( sepal length, sepal width, petal length, petal width ) </li>\n",
    "</ul>\n",
    "\n",
    "\n",
    "<table><tr>\n",
    "<td> Iris-setosa<img src=\"pic/iris-setosa.jpg\" alt=\"Drawing\" style=\"width: 250px;\"/> </td>\n",
    "<td> Iris-versicolor<img src=\"pic/iris-versicolor.jpg\"alt=\"Drawing\" style=\"width: 250px;\"/> </td>\n",
    "<td> Iris-virginica<img src=\"pic/iris-virginica.jpg\"alt=\"Drawing\" style=\"width: 250px;\"/> </td>\n",
    "</tr></table>\n"
   ]
  },
  {
   "cell_type": "code",
   "execution_count": null,
   "metadata": {},
   "outputs": [],
   "source": [
    "# Load data directly from ski-learn package\n",
    "from sklearn.datasets import load_iris\n",
    "\n",
    "# Load data\n",
    "iris = load_iris()\n",
    "\n",
    "# Class names\n",
    "print (\"The names of 3 classes: \", list(iris.target_names))\n",
    "\n",
    "# Feature names\n",
    "print (\"The names of 4 features:\", list(iris.feature_names))"
   ]
  },
  {
   "cell_type": "code",
   "execution_count": null,
   "metadata": {},
   "outputs": [],
   "source": [
    "# Get samples\n",
    "X_iris = iris.data\n",
    "print (\"The shape of Iris dataset :\", X_iris.shape)\n",
    "\n",
    "# Size of data\n",
    "n_samples  = X_iris.shape[0]\n",
    "n_features = X_iris.shape[1]\n",
    "print (\"The number of samples:     \", n_samples)\n",
    "print (\"The dim of each feature:   \", n_features)\n",
    "\n",
    "# Get labels\n",
    "Y_iris = iris.target\n",
    "print (\"\\nThe shape of labels in Iris dataset :\", Y_iris.shape)"
   ]
  },
  {
   "cell_type": "code",
   "execution_count": null,
   "metadata": {},
   "outputs": [],
   "source": [
    "# Draw the first two dimensions of samples to see their distribution in feature space\n",
    "\n",
    "%matplotlib inline\n",
    "import matplotlib.pyplot as plt\n",
    "\n",
    "# Import some data to play with\n",
    "X = X_iris[:, :2]  # we only take the first two features.\n",
    "y = Y_iris\n",
    "\n",
    "x_min, x_max = X[:, 0].min() - .5, X[:, 0].max() + .5\n",
    "y_min, y_max = X[:, 1].min() - .5, X[:, 1].max() + .5\n",
    "\n",
    "plt.figure(2, figsize=(8, 6))\n",
    "plt.clf()\n",
    "\n",
    "# Plot the training points\n",
    "plt.scatter(X[:, 0], X[:, 1], c=y, cmap=plt.cm.Set1, edgecolor='grey', s=40)\n",
    "plt.title('Sample Distribution in Feature Space')\n",
    "plt.xlabel('Sepal length')\n",
    "plt.ylabel('Sepal width')\n",
    "\n",
    "plt.xlim(x_min, x_max)\n",
    "plt.ylim(y_min, y_max)\n",
    "plt.xticks(())\n",
    "plt.yticks(())"
   ]
  },
  {
   "cell_type": "markdown",
   "metadata": {},
   "source": [
    "#### Training\n",
    "\n",
    "Training Data: 80% of the samples in Iris dataset"
   ]
  },
  {
   "cell_type": "code",
   "execution_count": null,
   "metadata": {
    "collapsed": true
   },
   "outputs": [],
   "source": [
    "import numpy as np\n",
    "\n",
    "# Randomly permute IDs\n",
    "rand_ids = np.random.permutation(n_samples)\n",
    "\n",
    "# Training IDs\n",
    "n_train = int(n_samples*0.8)\n",
    "train_ids = rand_ids[0:n_train]\n",
    "\n",
    "# Get training samples\n",
    "X_iris_train = X_iris[train_ids]\n",
    "Y_iris_train = Y_iris[train_ids]\n",
    "\n",
    "\n",
    "# Training\n",
    "from sklearn import tree\n",
    "tree_clf = tree.DecisionTreeClassifier()\n",
    "tree_clf = tree_clf.fit(X_iris_train, Y_iris_train)"
   ]
  },
  {
   "cell_type": "markdown",
   "metadata": {},
   "source": [
    "#### Tree Visualization\n",
    "\n",
    "Using [`Graphviz`](http://www.graphviz.org) for tree structure visualization. Once the decision tree is trained, we can export the tree in Graphviz format using the `export_graphviz` exporter. Using the commands below to install `Graphviz` if Anaconda is installed.\n",
    "\n",
    "**type in terminal : ** `conda install python-graphviz`"
   ]
  },
  {
   "cell_type": "code",
   "execution_count": null,
   "metadata": {},
   "outputs": [],
   "source": [
    "#import Graphviz package\n",
    "import graphviz\n",
    "\n",
    "tree.export_graphviz(\n",
    "                         tree_clf,\n",
    "                         feature_names = iris.feature_names,  \n",
    "                         class_names   = iris.target_names,  \n",
    "                         filled  = True, \n",
    "                         rounded = True,  \n",
    "                         special_characters = True,\n",
    "                         out_file = 'tree.dot'\n",
    "                    )  # save tree as .dot file\n",
    "\n",
    "with open(\"tree.dot\") as f:\n",
    "    dot_graph = f.read()      # read from .dot file\n",
    "    \n",
    "    \n",
    "graph = graphviz.Source(dot_graph)\n",
    "graph\n",
    "\n",
    "# gini    : Gini coefficient to evaluate the purity of samples after spliting\n",
    "# samples : The number of samples in current node\n",
    "# value   : The number of samples in each class in current node\n",
    "# clas    : The majority class of samples in current node"
   ]
  },
  {
   "cell_type": "markdown",
   "metadata": {},
   "source": [
    "#### Testing\n",
    "\n",
    "Testing Data: 20% of the samples in Iris dataset"
   ]
  },
  {
   "cell_type": "code",
   "execution_count": null,
   "metadata": {
    "collapsed": true
   },
   "outputs": [],
   "source": []
  },
  {
   "cell_type": "code",
   "execution_count": null,
   "metadata": {},
   "outputs": [],
   "source": [
    "# Testing IDs\n",
    "test_ids = rand_ids[n_train:]\n",
    "n_test   = test_ids.shape[0]\n",
    "\n",
    "\n",
    "# Get testing samples\n",
    "X_iris_test = X_iris[test_ids]\n",
    "Y_iris_test = Y_iris[test_ids]\n",
    "\n",
    "\n",
    "# Testing\n",
    "Y_iris_pred = tree_clf.predict(X_iris_test)\n",
    "\n",
    "\n",
    "# Check accuracy\n",
    "results = (Y_iris_pred == Y_iris_test)\n",
    "results = results.astype(int)\n",
    "\n",
    "accuracy = sum(results)*100.0/n_test\n",
    "print (\"The testing accuracy is %0.2f%%\" % accuracy)"
   ]
  },
  {
   "cell_type": "markdown",
   "metadata": {},
   "source": [
    "## Try this:\n",
    "* ** 1. Vary the percentage of training and testing data (say 30% and 70% respectively) and rerun the above code. Notice any change in the training and testing accuracy?**\n",
    "    \n"
   ]
  },
  {
   "cell_type": "code",
   "execution_count": null,
   "metadata": {
    "collapsed": true
   },
   "outputs": [],
   "source": []
  }
 ],
 "metadata": {
  "kernelspec": {
   "display_name": "Python 3",
   "language": "python",
   "name": "python3"
  },
  "language_info": {
   "codemirror_mode": {
    "name": "ipython",
    "version": 3
   },
   "file_extension": ".py",
   "mimetype": "text/x-python",
   "name": "python",
   "nbconvert_exporter": "python",
   "pygments_lexer": "ipython3",
   "version": "3.6.3"
  }
 },
 "nbformat": 4,
 "nbformat_minor": 2
}
